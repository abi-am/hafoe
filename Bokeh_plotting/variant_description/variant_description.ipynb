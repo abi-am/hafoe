{
 "cells": [
  {
   "cell_type": "code",
   "execution_count": null,
   "metadata": {},
   "outputs": [],
   "source": [
    "import numpy as np\n",
    "import pandas as pd\n",
    "import seaborn as sns\n",
    "import matplotlib.pyplot as plt\n",
    "\n",
    "import bokeh as bk\n",
    "\n",
    "import panel as pn\n",
    "import panel.widgets as pnw\n",
    "pn.extension()\n"
   ]
  },
  {
   "cell_type": "markdown",
   "metadata": {},
   "source": [
    "### Helper functions"
   ]
  },
  {
   "cell_type": "code",
   "execution_count": null,
   "metadata": {},
   "outputs": [],
   "source": [
    "\n",
    "### Used for plotting the composition heatmap\n",
    "def view_composition(serotype_dictionary, include_text = False, plot_width = 800, max_num_x = 100):\n",
    "    \n",
    "    ### seqs: Serotype list\n",
    "    ### keys: Library name\n",
    "    seqs = np.array(list(serotype_dictionary.values()))\n",
    "    keys = np.array(list(serotype_dictionary.keys()))\n",
    "    \n",
    "    N = len(seqs[0])\n",
    "    S = len(seqs)    \n",
    "    width = 1.\n",
    "    \n",
    "    tmp = [i for s in seqs for i in s]\n",
    "    colors = [serotype_colors[i] for i in tmp]\n",
    "    serotypes = [serotype_names[i] for i in tmp]\n",
    "    \n",
    "    x = np.arange(1, N + 1)\n",
    "    y = np.arange(0, S, 1)    \n",
    "    xx, yy = np.meshgrid(x, y)\n",
    "    \n",
    "    gx = xx.flatten()\n",
    "    gy = yy.flatten()\n",
    "    recty = gy + .1\n",
    "    h = 1/S\n",
    "    \n",
    "    plot_height = len(seqs)*15 + 50\n",
    "    x_range = bk.models.Range1d(0, N + 1, bounds = 'auto')\n",
    "    if N > max_num_x:\n",
    "        viewlen = max_num_x\n",
    "    else:\n",
    "        viewlen = N\n",
    "    view_range = (0, viewlen) \n",
    "    \n",
    "    \n",
    "    \n",
    "    source = bk.models.ColumnDataSource(dict(x=gx, y=gy, recty=recty, colors = colors, serotypes = serotypes))\n",
    "    \n",
    "    p = bk.plotting.figure(title = None, \n",
    "               plot_width = plot_width, plot_height = plot_height, \n",
    "               x_range = view_range, y_range = keys, tools = \"xwheel_zoom, xpan, reset\", \n",
    "               min_border = 0, toolbar_location = 'below')\n",
    "    \n",
    "    if include_text == True:\n",
    "        glyph = bk.models.glyphs.Text(x=\"x\", y=\"y\", text=\"text\", \n",
    "                                   text_align='center',\n",
    "                                   text_color=\"black\", \n",
    "                                   text_font=\"monospace\",\n",
    "                                   text_font_size=fontsize)\n",
    "    elif include_text == False:\n",
    "        glyph = bk.models.glyphs.Text(x=\"x\", y=\"y\", text=\"\", \n",
    "                                   text_align='center',\n",
    "                                   text_color=\"black\", \n",
    "                                   text_font=\"monospace\")\n",
    "        \n",
    "    rects = bk.models.glyphs.Rect(x = \"x\", y = \"recty\",  \n",
    "                 width = 1., height = 1., \n",
    "                 fill_color = \"colors\", \n",
    "                 line_color = None, fill_alpha = 1.)\n",
    "    \n",
    "    p.add_glyph(source, glyph)\n",
    "    p.add_glyph(source, rects)\n",
    "  \n",
    "    p.grid.visible = False\n",
    "    p.xaxis.major_label_text_font_style = \"bold\"\n",
    "    p.yaxis.minor_tick_line_width = 0\n",
    "    p.yaxis.major_tick_line_width = 0\n",
    "    \n",
    "    \n",
    "    tooltips = [(\"serotype\", \"@serotypes\"),]\n",
    "    p.add_tools(bk.models.HoverTool(tooltips=tooltips))\n",
    "    \n",
    "    return p\n",
    "\n",
    "\n",
    "serotype_names = np.array([\"No alignment\", \"AAV1\", \"AAV2\", \"AAV3\", \"AAV4\", \"AAV5\", \"AAV6\", \n",
    "                  \"AAV7\", \"AAV8\", \"AAV9\", \"AAV10\", \"AAV11\", \"AAV12\", \"AAV13\", \n",
    "                  \"AAVrh8\", \"AAVrh10\", \"AAVrh32\", \"Multiple alignments\", \"gap\"])\n",
    "\n",
    "### Lilit's colors:\n",
    "# large_colors_list = [\"#1F78B4\", \"#33A02C\", \"#C51B7D\", \n",
    "#                       \"#542788\", \"#A6CEE3\", \"#B2DF8A\", \n",
    "#                       \"#F1B6DA\", \"#B2ABD2\", \"#FFBC52\", \n",
    "#                       \"#E96656\", \"#5BBAB5\", \"#4C4452\"]\n",
    "#gs_colors_list = [\"#AA4488\", \"#4477AA\", \"#AAAA44\", \n",
    "#                  \"#AA7744\", \"#AA4455\", \"#44AAAA\", \n",
    "#                  \"#771155\", \"#114477\", \"#777711\", \n",
    "#                  \"#774411\", \"#771122\", \"#117777\"]\n",
    "serotype_colors = sns.color_palette(\"RdBu_r\", len(serotype_names) - 3).as_hex() ###\n",
    "serotype_colors.insert(0, \"black\")\n",
    "serotype_colors.append(\"gray\")\n",
    "serotype_colors.append(\"blue\")\n",
    "\n"
   ]
  },
  {
   "cell_type": "markdown",
   "metadata": {},
   "source": [
    "### Load and pre-process the files by Tatev"
   ]
  },
  {
   "cell_type": "code",
   "execution_count": null,
   "metadata": {},
   "outputs": [],
   "source": [
    "### Load the chimeric library\n",
    "chimeric_library_top20_msa = pd.read_csv(\"Data/chimeric_lib_representatives_variant_description_top20_msa.csv\", header = None)\n",
    "chimeric_library = pd.read_csv(\"Data/chimeric_lib_representatives_variant_description.csv\", header = None)\n",
    "\n",
    "### Create a dictionaries with chimeric_name:[serotype ids]\n",
    "variant_description_dictionary_top20_msa = {}\n",
    "for chimeric_library_item in chimeric_library_top20_msa[0]:\n",
    "    \n",
    "    chimeric_library_item_name = chimeric_library_item.split()[0]\n",
    "    chimeric_library_item_parents = np.array(chimeric_library_item.split()[1:]).astype(\"int\")\n",
    "    \n",
    "    variant_description_dictionary_top20_msa[chimeric_library_item_name] = chimeric_library_item_parents\n",
    "    \n",
    "variant_description_dictionary = {}\n",
    "for chimeric_library_item in chimeric_library[0]:\n",
    "    \n",
    "    chimeric_library_item_name = chimeric_library_item.split()[0]\n",
    "    chimeric_library_item_parents = np.array(chimeric_library_item.split()[1:]).astype(\"int\")\n",
    "    \n",
    "    variant_description_dictionary[chimeric_library_item_name] = chimeric_library_item_parents\n",
    "\n",
    "### Clustering data\n",
    "clustering_data = pd.read_csv(\"../orf_distribution/Data/clustering_info.csv\")\n",
    "# Introduce an additional column with member count\n",
    "clustering_data[\"member_count\"] = clustering_data[\"Members_char\"].str.count('AAV')\n",
    "# Sort the entries by the member count\n",
    "clustering_data = clustering_data.sort_values(by=['member_count'])\n",
    "\n",
    "### Combined counts\n",
    "rep_counts = pd.read_csv(\"Data/chimeric_lib_rep_counts.csv\")\n",
    "\n"
   ]
  },
  {
   "cell_type": "markdown",
   "metadata": {},
   "source": [
    "### Heatmap of multiply-aligned top-20 samples"
   ]
  },
  {
   "cell_type": "code",
   "execution_count": null,
   "metadata": {},
   "outputs": [],
   "source": [
    "p = view_composition(variant_description_dictionary_top20_msa, include_text = False, \n",
    "                                                               plot_width = 800, \n",
    "                                                               max_num_x = 2500)\n",
    "pn.pane.Bokeh(p)\n",
    "\n"
   ]
  },
  {
   "cell_type": "code",
   "execution_count": null,
   "metadata": {},
   "outputs": [],
   "source": [
    "### Some useless table\n",
    "\n",
    "color_source = bk.models.ColumnDataSource(dict(name = serotype_names, colors = serotype_colors))\n",
    "\n",
    "\n",
    "columns = [\n",
    "    bk.models.TableColumn(field='name', title='serotype_names'),\n",
    "    bk.models.TableColumn(field='colors', title='colors')\n",
    "    ]\n",
    "\n",
    "serotype_table = bk.models.DataTable(source = color_source, columns = columns, fit_columns = False)\n",
    "\n",
    "pn.pane.Bokeh(serotype_table)\n"
   ]
  },
  {
   "cell_type": "markdown",
   "metadata": {},
   "source": [
    "### Heatmap of all the samples"
   ]
  },
  {
   "cell_type": "code",
   "execution_count": null,
   "metadata": {},
   "outputs": [],
   "source": [
    "p = view_composition(variant_description_dictionary, include_text = False, \n",
    "                                                               plot_width = 800, \n",
    "                                                               max_num_x = 2500)\n",
    "pn.pane.Bokeh(p)"
   ]
  },
  {
   "cell_type": "markdown",
   "metadata": {},
   "source": [
    "### Positional serotype abundance (meaningful only for MSA samaples)\n"
   ]
  },
  {
   "cell_type": "code",
   "execution_count": null,
   "metadata": {},
   "outputs": [],
   "source": [
    "### 2-D array of chimeric composition\n",
    "chimeric_composition_array = np.array(list(variant_description_dictionary_top20_msa.values()))\n",
    "\n",
    "### Initialize the abundance matrix ---> rows:serotypes, columns:positional abundance \n",
    "positional_serotype_abundance = np.zeros((len(serotype_names), np.shape(chimeric_composition_array)[1]))\n",
    "\n",
    "### Populate the abundance matrix\n",
    "for serotype_indx in np.arange(0, len(serotype_names), 1):\n",
    "    positional_serotype_abundance[serotype_indx] = np.sum(chimeric_composition_array == serotype_indx, axis = 0)"
   ]
  },
  {
   "cell_type": "code",
   "execution_count": null,
   "metadata": {},
   "outputs": [],
   "source": [
    "\n",
    "from bokeh.plotting import figure, show\n",
    "\n",
    "\n",
    "##################################################################################################\n",
    "##################################################################################################\n",
    "def update_data(attrname, old, new):\n",
    "\n",
    "    ### Get the current slider value\n",
    "    smoothing_window_size = smoothing_slider.value\n",
    "        \n",
    "    smoothed_serotype_abundance = np.copy(positional_serotype_abundance)\n",
    "    for serotype_indx in np.arange(0, len(serotype_names), 1):\n",
    "        abundance_tmp = smoothed_serotype_abundance[serotype_indx]\n",
    "        smoothed_serotype_abundance[serotype_indx] = np.convolve(abundance_tmp, \n",
    "                                                                 np.ones(smoothing_window_size), \n",
    "                                                                 'same')/smoothing_window_size\n",
    "        \n",
    "    ### update the data container\n",
    "    source.data[\"abundance\"] = list(smoothed_serotype_abundance)\n",
    "##################################################################################################\n",
    "##################################################################################################\n",
    "\n",
    "### The smoothing slider\n",
    "smoothing_slider = bk.models.Slider(start = 1, end = 500, value = 1, step = 1, title = \"Smoothing length\")\n",
    "\n",
    "\n",
    "\n",
    "### Prepare the plotting data\n",
    "# placeholder array\n",
    "positions_base = np.arange(0, np.shape(positional_serotype_abundance)[1])\n",
    "# the main data container\n",
    "data_dict = {}\n",
    "data_dict[\"positions\"] = [positions_base for _ in np.arange(0, np.shape(positional_serotype_abundance)[0])]\n",
    "data_dict[\"abundance\"] = list(positional_serotype_abundance)\n",
    "data_dict[\"color\"] = serotype_colors\n",
    "data_dict[\"serotypes\"] = serotype_names\n",
    "source = bk.plotting.ColumnDataSource(data = data_dict)\n",
    "\n",
    "### Start plotting\n",
    "p = figure(title = \"Positional counts\", y_range = (-1, 10), \n",
    "                                        plot_width = 800,\n",
    "                                        x_axis_label = \"Position\", \n",
    "                                        y_axis_label = \"Serotype abundance\")\n",
    "\n",
    "p.multi_line(xs = 'positions', ys = 'abundance', source = source,\n",
    "                                                 line_width = 3, \n",
    "                                                 color = 'color')\n",
    "\n",
    "### Add a tooltip\n",
    "tooltips = [(\"serotype\", \"@serotypes\"),]\n",
    "p.add_tools(bk.models.HoverTool(tooltips = tooltips))\n",
    "\n",
    "\n",
    "smoothing_slider.on_change('value', update_data)\n",
    "\n",
    "\n",
    "\n",
    "# show the results\n",
    "pn.pane.Bokeh(bk.layouts.column(smoothing_slider, p, width = 800))\n",
    "\n"
   ]
  },
  {
   "cell_type": "markdown",
   "metadata": {},
   "source": [
    "### Serotype abundance (violin plots)"
   ]
  },
  {
   "cell_type": "code",
   "execution_count": null,
   "metadata": {},
   "outputs": [],
   "source": [
    "### We compute the distribution of serotype abundance per representative\n",
    "### It's a bit contrived but works fine\n",
    "\n",
    "chimeric_representative_number, chimeric_length = np.shape(chimeric_composition_array)\n",
    "\n",
    "distribution_serotypes = []\n",
    "distribution_representatives = []\n",
    "\n",
    "for serotype_indx in range(len(serotype_names)):\n",
    "    \n",
    "    ### This is not very correct for several reasons. 1) it's normlized by chimeric_length, which is the same\n",
    "    ### for all the reprepsentatives because they are padded by gaps (=> many are artificially enlarged),\n",
    "    ### 2) we assume all the members behave exactly as the reprepsentatives,\n",
    "    ### 3) we don't account for combined counts provided by Tatev\n",
    "    \n",
    "    composition_tmp = 100.*np.sum(chimeric_composition_array == serotype_indx, axis = 1)/chimeric_length\n",
    "    composition_tmp = np.around(composition_tmp, decimals = 2)\n",
    "    \n",
    "    ### This is a required for the sns violin plot\n",
    "    distribution_serotypes += [serotype_names[serotype_indx]]*chimeric_representative_number\n",
    "    distribution_representatives.append(list(composition_tmp))\n",
    "    \n",
    "distribution_serotypes = np.array(distribution_serotypes)\n",
    "distribution_representatives = np.array(distribution_representatives).flatten()\n",
    "    \n",
    "distribution_serotypes.astype('str');\n",
    "distribution_representatives.astype('float64');\n",
    "\n",
    "print(len(distribution_serotypes) == len(distribution_representatives))"
   ]
  },
  {
   "cell_type": "code",
   "execution_count": null,
   "metadata": {},
   "outputs": [],
   "source": [
    "### Create a data-frame\n",
    "\n",
    "serotype_dist_data_frame = pd.DataFrame(np.array([distribution_serotypes, distribution_representatives]).T, \n",
    "                                                  columns = [\"Serotype\", \"Frequency\"])\n",
    "\n",
    "serotype_dist_data_frame['Frequency'] = serotype_dist_data_frame['Frequency'].astype('float64')\n",
    "serotype_dist_data_frame.dtypes\n",
    "\n"
   ]
  },
  {
   "cell_type": "code",
   "execution_count": null,
   "metadata": {},
   "outputs": [],
   "source": [
    "serotype_dist_data_frame"
   ]
  },
  {
   "cell_type": "code",
   "execution_count": null,
   "metadata": {},
   "outputs": [],
   "source": [
    "### Unfortunately boeh has abandoned seaborn and matplotlib support (it seems). Maybe a boxplot after all?\n",
    "### We will think how to do this better. I tried KDE estimates myself, but results looked very ugly.\n",
    "\n",
    "sns.set_style(\"whitegrid\")\n",
    "\n",
    "\n",
    "ax = sns.violinplot(x = \"Serotype\", y = \"Frequency\",\n",
    "                    data=serotype_dist_data_frame, palette = \"Set2\", split = True,\n",
    "                    scale = \"count\", inner = \"points\", cut=0)\n",
    "\n",
    "ax.tick_params(axis = 'x', rotation = 65)\n",
    "sns.set(rc = {'figure.figsize':(15, 8)})\n",
    "\n"
   ]
  },
  {
   "cell_type": "code",
   "execution_count": null,
   "metadata": {},
   "outputs": [],
   "source": []
  },
  {
   "cell_type": "code",
   "execution_count": null,
   "metadata": {},
   "outputs": [],
   "source": []
  }
 ],
 "metadata": {
  "kernelspec": {
   "display_name": "tensorflow_m1",
   "language": "python",
   "name": "tensorflow_m1"
  },
  "language_info": {
   "codemirror_mode": {
    "name": "ipython",
    "version": 3
   },
   "file_extension": ".py",
   "mimetype": "text/x-python",
   "name": "python",
   "nbconvert_exporter": "python",
   "pygments_lexer": "ipython3",
   "version": "3.9.0"
  },
  "vscode": {
   "interpreter": {
    "hash": "6a79ad8c41c5559a12c72400e4f98ed1fb0e6eb579c1a2d1864f754d64d11b50"
   }
  }
 },
 "nbformat": 4,
 "nbformat_minor": 4
}
